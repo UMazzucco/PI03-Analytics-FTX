{
 "cells": [
  {
   "cell_type": "markdown",
   "metadata": {},
   "source": [
    "IMPORT"
   ]
  },
  {
   "cell_type": "code",
   "execution_count": 140,
   "metadata": {},
   "outputs": [],
   "source": [
    "import datetime\n",
    "import pandas as pd\n",
    "import requests\n",
    "import cctx\n",
    "import ccxt\n",
    "from matplotlib import pyplot as plt"
   ]
  },
  {
   "cell_type": "markdown",
   "metadata": {},
   "source": [
    "GET URL"
   ]
  },
  {
   "cell_type": "code",
   "execution_count": 141,
   "metadata": {},
   "outputs": [],
   "source": [
    "api_url = 'https://ftx.com/api'\n",
    "markets = ['BTC/USD','ETH/USD','USDT/USD','BNB/USD','XRP/USD','SOL/USD','DOGE/USD','DOT/USD','DAI/USD','MATIC/USD']"
   ]
  },
  {
   "cell_type": "markdown",
   "metadata": {},
   "source": [
    "GET MARKETS LIST AS .CSV"
   ]
  },
  {
   "cell_type": "code",
   "execution_count": 142,
   "metadata": {},
   "outputs": [],
   "source": [
    "#res = requests.get(api_url+'/markets').json()\n",
    "#df = pd.DataFrame(res['result'])\n",
    "#df['name'].to_csv('names.csv',index=False)"
   ]
  },
  {
   "cell_type": "markdown",
   "metadata": {},
   "source": [
    "GET INDIVIDUAL MARKET DATA"
   ]
  },
  {
   "cell_type": "code",
   "execution_count": 147,
   "metadata": {},
   "outputs": [],
   "source": [
    "resolution = 3600\n",
    "start = datetime.datetime(2022,8,1).timestamp()\n",
    "end = datetime.datetime.today().timestamp()\n",
    "\n",
    "for coin in markets:\n",
    "    path = f'/markets/{coin}/candles?resolution={resolution}&start_time={start}&end_time={end}'\n",
    "    url = api_url + path\n",
    "    res = requests.get(url).json()\n",
    "    df = pd.DataFrame(res['result'])\n",
    "    df['date'] = pd.to_datetime(df['startTime'])\n",
    "    df = df.set_index('date')\n",
    "    df = df.drop(columns=['startTime','time'])\n",
    "    name = coin.replace('/','_')\n",
    "    df.sort_values('date').to_csv('markets_data/'+name+'.csv')"
   ]
  },
  {
   "cell_type": "code",
   "execution_count": null,
   "metadata": {},
   "outputs": [],
   "source": []
  }
 ],
 "metadata": {
  "kernelspec": {
   "display_name": "Python 3.9.12 ('base')",
   "language": "python",
   "name": "python3"
  },
  "language_info": {
   "codemirror_mode": {
    "name": "ipython",
    "version": 3
   },
   "file_extension": ".py",
   "mimetype": "text/x-python",
   "name": "python",
   "nbconvert_exporter": "python",
   "pygments_lexer": "ipython3",
   "version": "3.9.12"
  },
  "orig_nbformat": 4,
  "vscode": {
   "interpreter": {
    "hash": "5b8cdd4f9a101fdd4557da0745686d41d9a3acecbeb7c45458d61a0a0b7bf82a"
   }
  }
 },
 "nbformat": 4,
 "nbformat_minor": 2
}
